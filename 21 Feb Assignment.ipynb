{
 "cells": [
  {
   "cell_type": "code",
   "execution_count": null,
   "id": "bceed13c-3f73-4290-ae17-162ee5a01e42",
   "metadata": {},
   "outputs": [],
   "source": [
    "#Q.1\n",
    "Web scraping is the process of using bots to extract content and data from a website.Unlike screen scraping,\n",
    "which only copies pixels displayed onscreen, web scraping extracts underlying HTML code \n",
    "and, with it, data stored in a database. The scraper can then replicate entire website content elsewhere.\n",
    "\n",
    "Three areas of webscraping:-\n",
    "As well as contact scraping, web scraping is used as a component of applications used for web indexing,\n",
    "web mining and data mining, online price change monitoring and price comparison, product review scraping (to\n",
    "watch the competition), gathering real estate listings, weather data monitoring, website change detection,"
   ]
  },
  {
   "cell_type": "code",
   "execution_count": null,
   "id": "d5d97518-c144-4be2-a7a2-e954676d625b",
   "metadata": {},
   "outputs": [],
   "source": [
    "#Q.2\n",
    "There are two different methods for performing web scraping, one is accessing www via HTTP or a web browser\n",
    "and the second one is making use of bot or web crawler. Web Scraping is considered \n",
    "as bad or illegal but it not always bad. Many times government websites make data available for public use."
   ]
  },
  {
   "cell_type": "code",
   "execution_count": null,
   "id": "aaf6499b-a233-4d99-a5d5-357db15cf09a",
   "metadata": {},
   "outputs": [],
   "source": [
    "#Q.3\n",
    "Beautiful Soup is a Python package for parsing HTML and XML documents (including having malformed markup,\n",
    "i.e. non-closed tags, so named after tag soup). It creates \n",
    "a parse tree for parsed pages that can be used to extract data from HTML, which is useful for web scraping."
   ]
  },
  {
   "cell_type": "code",
   "execution_count": null,
   "id": "820ff2fb-6d30-4216-bcb6-97a5a7aaeffa",
   "metadata": {},
   "outputs": [],
   "source": [
    "#Q.4\n",
    "Flask is a lightweight framework to build websites. We  well use this to parse our collected data and display it as HTML\n",
    "in a new HTML file. The requests module allows us to send http requests to the website we want to scrape."
   ]
  }
 ],
 "metadata": {
  "kernelspec": {
   "display_name": "Python 3 (ipykernel)",
   "language": "python",
   "name": "python3"
  },
  "language_info": {
   "codemirror_mode": {
    "name": "ipython",
    "version": 3
   },
   "file_extension": ".py",
   "mimetype": "text/x-python",
   "name": "python",
   "nbconvert_exporter": "python",
   "pygments_lexer": "ipython3",
   "version": "3.10.8"
  }
 },
 "nbformat": 4,
 "nbformat_minor": 5
}
